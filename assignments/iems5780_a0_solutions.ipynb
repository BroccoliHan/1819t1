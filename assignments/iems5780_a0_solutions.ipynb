{
  "cells": [
    {
      "cell_type": "markdown",
      "source": [
        "# IEMS5780 / IERG4080 2018-2019 Term 1\n",
        "## Assignment 0 - Basic Python Programming\n",
        "\n",
        "### Instructions\n",
        "\n",
        "* **Deadline: 23:59, 21st September, 2018 (Friday)**\n",
        "* Implement the functions in each problem according to the requirements described in the problem\n",
        "* After finishing the whole assignment, download the notebook and name it **<student_id>_assignment1.ipynb**, and submit it to Blackboard\n",
        "\n\n\n"
      ],
      "metadata": {
        "colab_type": "text",
        "id": "kLnixNecFXYf"
      }
    },
    {
      "cell_type": "markdown",
      "source": [
        "## Problem 1\n",
        "\nWrite a function that returns the number of integers that are divisble by 5 but not a multiple of 3 between two given non-zero integers `a` and `b` (including `a` and `b`, `a, b >= 0`, and `a <= b`). For example, if `a = 10` and `b = 30`, it should return 3 as there are two integers (10, 20 and 25) that satisfy the above condition. "
      ],
      "metadata": {
        "colab_type": "text",
        "id": "fUZgkZzfjraY"
      }
    },
    {
      "cell_type": "code",
      "source": [
        "# Problem 1\n",
        "\n",
        "def problem_1(a, b):\n",
        "    output = 0\n",
        "    start = a + (5 - a) % 5\n",
        "    for i in range(start, b + 1, 5):\n",
        "        if i % 3:\n",
        "            output += 1\n",
        "    return output"
      ],
      "outputs": [],
      "execution_count": 2,
      "metadata": {
        "colab": {},
        "colab_type": "code",
        "id": "2yVN24WNFrgb"
      }
    },
    {
      "cell_type": "code",
      "source": [
        "# The expected output of the following is 3\n",
        "problem_1(10, 35)"
      ],
      "outputs": [
        {
          "output_type": "execute_result",
          "execution_count": 4,
          "data": {
            "text/plain": [
              "4"
            ]
          },
          "metadata": {}
        }
      ],
      "execution_count": 4,
      "metadata": {
        "colab": {
          "base_uri": "https://localhost:8080/",
          "height": 35
        },
        "colab_type": "code",
        "id": "PyeD2VdHF0q_",
        "outputId": "17b313d4-5485-4bb9-b84f-754678cc983a"
      }
    },
    {
      "cell_type": "markdown",
      "source": [
        "## Problem 2\n",
        "\nWrite a function that returns the sum of `n + nnn + nnnnn` given that `n` is a positive single-digit number (i.e. `n` can be 0 to 9). For example, if `n = 8`, then the function should return `8 + 888 + 88888 = 89784`. You should also check that `n` is a single digit, if not you should simply return `0`."
      ],
      "metadata": {
        "colab_type": "text",
        "id": "f-dBaM9BkHSd"
      }
    },
    {
      "cell_type": "code",
      "source": [
        "# Problem 2\n",
        "\n",
        "def problem_2(n):\n",
        "    if type(n) == int and 0 <= n <= 9:\n",
        "        return n * (1 + 111 + 11111)\n",
        "    else:\n",
        "        return 0"
      ],
      "outputs": [],
      "execution_count": 6,
      "metadata": {
        "colab": {},
        "colab_type": "code",
        "id": "AhNg1_BjTBGA"
      }
    },
    {
      "cell_type": "code",
      "source": [
        "# The expected output of the following is 89784\n",
        "problem_2(8)"
      ],
      "outputs": [
        {
          "output_type": "execute_result",
          "execution_count": 7,
          "data": {
            "text/plain": [
              "89784"
            ]
          },
          "metadata": {}
        }
      ],
      "execution_count": 7,
      "metadata": {
        "colab": {
          "base_uri": "https://localhost:8080/",
          "height": 35
        },
        "colab_type": "code",
        "id": "84YpB5n8ko4x",
        "outputId": "dd8e2a9e-c804-4553-c8b7-c628e5d8d247"
      }
    },
    {
      "cell_type": "markdown",
      "source": [
        "## Problem 3\n",
        "\nWrite a function that, given a list of integers, returns the subsequence that has the largest sum, as well as the sum. For example, if `nums = [1, 3, -2, 4, 8, -9, 0, 5]`, the subsequence with the largest sum is `[1, 3, -2, 4, 8]`, therefore the function should return a tuple `([1, 3, -2, 4, 8], 14)`."
      ],
      "metadata": {
        "colab_type": "text",
        "id": "fn5r2aqYkuEt"
      }
    },
    {
      "cell_type": "code",
      "source": [
        "# Problem 3\n",
        "import numpy as np\n",
        "\n",
        "def problem_3(nums):\n",
        "    c_sum = 0\n",
        "    max_sum = 0\n",
        "    start = -1\n",
        "    for i, num in enumerate(nums):\n",
        "        c_sum += num\n",
        "        if c_sum < 0:\n",
        "            c_sum = 0\n",
        "            start = i\n",
        "        elif c_sum > max_sum:\n",
        "            max_sum = c_sum\n",
        "            start_index = start\n",
        "            end_index = i\n",
        "    \n",
        "    return nums[start_index + 1 : end_index + 1], max_sum"
      ],
      "outputs": [],
      "execution_count": 1,
      "metadata": {
        "colab": {},
        "colab_type": "code",
        "id": "AjzhMaK1ks7s"
      }
    },
    {
      "cell_type": "code",
      "source": [
        "# The expected output of the following is ([1, 3, -2, 4, 8], 14)\n",
        "problem_3([1, 3, -2, 4, 8, -9, 0, 5])"
      ],
      "outputs": [
        {
          "output_type": "execute_result",
          "execution_count": 2,
          "data": {
            "text/plain": [
              "([1, 3, -2, 4, 8], 14)"
            ]
          },
          "metadata": {}
        }
      ],
      "execution_count": 2,
      "metadata": {
        "colab": {
          "base_uri": "https://localhost:8080/",
          "height": 35
        },
        "colab_type": "code",
        "id": "ipjKkYXTleEh",
        "outputId": "59aeb4a6-7b9e-4054-dcda-eab13d1529f9"
      }
    },
    {
      "cell_type": "markdown",
      "source": [
        "## Problem 4\n",
        "\nWrite a function that sorts the words in a sentence. For example, if the input to the function is `the chinese university of hong hong`, the output of the function should be the string `chinese hong kong of the university`. The words should be sorted in **ascending order** of their ASCII values. You can assume that only **lowercase alphabets** and **space** will be present in the input string."
      ],
      "metadata": {
        "colab_type": "text",
        "id": "-pXQfvvEloeb"
      }
    },
    {
      "cell_type": "code",
      "source": [
        "def problem_4(sentence):\n",
        "    word_list = sentence.split()\n",
        "    return ' '.join(sorted(word_list))"
      ],
      "outputs": [],
      "execution_count": 7,
      "metadata": {
        "colab": {},
        "colab_type": "code",
        "id": "hIhrj1AXlnIY"
      }
    },
    {
      "cell_type": "code",
      "source": [
        "# The expected output of the following is 'chinese hong kong of the university'\n",
        "problem_4('the chinese university of hong kong')"
      ],
      "outputs": [
        {
          "output_type": "execute_result",
          "execution_count": 8,
          "data": {
            "text/plain": [
              "'chinese hong kong of the university'"
            ]
          },
          "metadata": {}
        }
      ],
      "execution_count": 8,
      "metadata": {
        "colab": {
          "base_uri": "https://localhost:8080/",
          "height": 35
        },
        "colab_type": "code",
        "id": "L5ZfJ8mIlsoM",
        "outputId": "e1de13c0-3fb4-42eb-c132-2702bba2133f"
      }
    },
    {
      "cell_type": "markdown",
      "source": [
        "## Problem 5\n",
        "\n",
        "Write a function that counts the number of occurrence of each word in a given string, and then return a list of the the **5 most frequent words along with their counts**. Please note that you should convert all alphabets into **lowercases** first. You can assume that words are **separated by spaces**, and you do not have to remove any other symbols from the words.\n",
        "\nNote: if two words are equally frequent in the sentence, you should sort them in **descending order of their ASCII values**."
      ],
      "metadata": {
        "colab_type": "text",
        "id": "UyXc2N92l26X"
      }
    },
    {
      "cell_type": "code",
      "source": [
        "from collections import Counter\n",
        "\n",
        "def problem_5(sentence):\n",
        "    output = []\n",
        "    word_list = sentence.lower().split()\n",
        "    cnt = Counter(word_list)\n",
        "    tmp = cnt.most_common(5)\n",
        "    output = sorted(tmp, key=lambda x:(x[0], x[1]), reverse=True)\n",
        "    output = [(b,a) for (a,b) in output]\n",
        "    return output"
      ],
      "outputs": [],
      "execution_count": 9,
      "metadata": {
        "colab": {},
        "colab_type": "code",
        "id": "bGs_ZSHbmKpc"
      }
    },
    {
      "cell_type": "code",
      "source": [
        "# The expected output of the following is \n",
        "# [(8, 'the'), (4, 'protocol'), (4, 'of'), (3, 'internet'), (3, 'applications')]\n",
        "sentence = \"\"\"\n",
        "    The Transmission Control Protocol (TCP) is one of the main protocols of the\n",
        "    Internet protocol suite. It originated in the initial network implementation\n",
        "    in which it complemented the Internet Protocol (IP).\n",
        "    Therefore, the entire suite is commonly referred to as TCP/IP. TCP provides\n",
        "    reliable, ordered, and error-checked delivery of a stream of octets between\n",
        "    applications running on hosts communicating by an IP network. Major Internet\n",
        "    applications such as the World Wide Web, email, remote administration, and\n",
        "    file transfer rely on TCP. Applications that do not require reliable data\n",
        "    stream service may use the User Datagram Protocol (UDP), which provides a\n",
        "    connectionless datagram service that emphasizes reduced latency over\n",
        "    reliability.\n",
        "\"\"\"\n",
        "problem_5(sentence)"
      ],
      "outputs": [
        {
          "output_type": "execute_result",
          "execution_count": 10,
          "data": {
            "text/plain": [
              "[(8, 'the'), (4, 'protocol'), (4, 'of'), (3, 'internet'), (3, 'applications')]"
            ]
          },
          "metadata": {}
        }
      ],
      "execution_count": 10,
      "metadata": {
        "colab": {
          "base_uri": "https://localhost:8080/",
          "height": 35
        },
        "colab_type": "code",
        "id": "N98wJDIglxGg",
        "outputId": "f672db6f-60a0-4d1d-e73f-1ca5abd08658"
      }
    },
    {
      "cell_type": "markdown",
      "source": [
        "## Problem 6\n",
        "\n",
        "Write a function that reads a **CSV file** and convert the data into a Python **dictionary**. The input to the function is the absolute path to the CSV file, and the output should be a list of dictionary objects. For example, if the content of the CSV file is as follows:\n",
        "\n",
        "    hkid,sex,dob,location\n",
        "    A123456(1),M,1985-10-20,Mongkok\n",
        "    B234567(2),F,1990-02-12,Shatin\n",
        "\n",
        "The output of the function should be the following:\n",
        "\n",
        "    [\n",
        "        {\"hkid\": \"A123456(1)\", \"sex\": \"M\", \"dob\": \"1985-10-20\", \"location\": \"Mongkok\"},\n",
        "        {\"hkid\": \"B234567(2)\", \"sex\": \"F\", \"dob\": \"1990-02-12\", \"location\": \"Shatin\"}\n",
        "    ]\n",
        "\n",
        "That is, the keys of the dictionaries are the column names in the CSV file; and the values are the values found in each record. Note that the first line of the CSV file contains the column names.\n",
        "\n",
        "You can assume that fields are separated by **commas**, and no comma will appear in the content of a cell.\n",
        "\n"
      ],
      "metadata": {
        "colab_type": "text",
        "id": "zeZGTrc3l8g-"
      }
    },
    {
      "cell_type": "code",
      "source": [
        "# Problem 6\n",
        "def problem_6(csv_file_path):\n",
        "    output = []\n",
        "    with open(csv_file_path, 'r') as F:\n",
        "        keys = F.readline().replace('\\n', '').split(',')\n",
        "        while True:\n",
        "            line = F.readline().replace('\\n', '')\n",
        "            if not line:\n",
        "                break\n",
        "            temp_dict = dict()\n",
        "            datas = line.split(',')\n",
        "            for key, data in zip(keys, datas):\n",
        "                temp_dict[key] = data\n",
        "            output.append(temp_dict)\n",
        "\n    return output"
      ],
      "outputs": [],
      "execution_count": 13,
      "metadata": {
        "colab": {},
        "colab_type": "code",
        "id": "RdkmKPYMmOI7"
      }
    },
    {
      "cell_type": "code",
      "source": [
        "# The expected output of the following is\n",
        "# [\n",
        "#   {\"hkid\": \"A123456(1)\", \"sex\": \"M\", \"dob\": \"1985-10-20\", \"location\": \"Mongkok\"},\n",
        "#   {\"hkid\": \"B234567(2)\", \"sex\": \"F\", \"dob\": \"1990-02-12\", \"location\": \"Shatin\"}\n",
        "# ]\n",
        "csv_file_path = \"problem6.csv\"\n",
        "problem_6(csv_file_path)"
      ],
      "outputs": [
        {
          "output_type": "execute_result",
          "execution_count": 15,
          "data": {
            "text/plain": [
              "[{'hkid': 'A123456(1)',\n",
              "  'sex': 'M',\n",
              "  'dob': '1985-10-20',\n",
              "  'location': 'Mongkok'},\n",
              " {'hkid': 'B234567(2)', 'sex': 'F', 'dob': '1990-02-12', 'location': 'Shatin'}]"
            ]
          },
          "metadata": {}
        }
      ],
      "execution_count": 15,
      "metadata": {
        "colab": {
          "base_uri": "https://localhost:8080/",
          "height": 35
        },
        "colab_type": "code",
        "id": "txs4wIb8aUO-",
        "outputId": "f9de72c1-7e1b-41b2-de83-4cbe59e23639"
      }
    },
    {
      "cell_type": "markdown",
      "source": [
        "## Problem 7\n",
        "\n",
        "Write a function that checks whether the numbers on a **Sudoku board** is placed in a valid way. The board that is input to the function will be in the form of a **list of lists (similar to a two-dimensional array)**. The board can be partially filled. An example is given below (**zeros indicate that the cell is empty**):\n",
        "\n",
        "    board = [\n",
        "        [0, 0, 0, 0, 0, 0, 0, 0, 0],\n",
        "        [0, 2, 0, 0, 9, 0, 0, 4, 0],\n",
        "        [0, 0, 0, 6, 0, 0, 7, 0, 0],\n",
        "        [0, 0, 0, 0, 0, 0, 0, 0, 0],\n",
        "        [0, 3, 0, 0, 0, 0, 0, 0, 2],\n",
        "        [0, 0, 0, 0, 0, 0, 0, 0, 0],\n",
        "        [1, 0, 0, 3, 0, 0, 5, 0, 0],\n",
        "        [0, 0, 4, 0, 0, 0, 0, 3, 0],\n",
        "        [8, 0, 0, 2, 0, 0, 0, 0, 1]\n",
        "    ]\n",
        "\n",
        "On a Sudoku board, numbers should be placed by following the following rules:\n",
        "\n",
        "- Each row must contain the digits 1 to 9 without repetition\n",
        "- Each column must contain the digits 1 to 9 without repetition\n",
        "- Each of the 9 3x3 boxes of the grid must contain the digits 1 to 9 without repetition.\n"
      ],
      "metadata": {
        "colab_type": "text",
        "id": "iRQ7N_LJmOtH"
      }
    },
    {
      "cell_type": "code",
      "source": [
        "# Problem 7\n",
        "import numpy as np\n",
        "\n",
        "def problem_7(board):\n",
        "    valid = False\n",
        "    board = np.array(board)\n",
        "    for e in board.flatten():\n",
        "        if e not in range(10):\n",
        "            return valid\n",
        "\n",
        "    for row in board:\n",
        "        row = row[row > 0]\n",
        "        if len(set(row)) != len(row):\n",
        "            return valid\n",
        "\n",
        "    for i in range(9):\n",
        "        column = board[:, i]\n",
        "        column = column[column > 0]\n",
        "        if len(set(column)) != len(column):\n",
        "            return valid\n",
        "\n",
        "    for i in range(3):\n",
        "        box = board[3*i : 3*i + 3, 3*i : 3*i +3]\n",
        "        box = box[box > 0]\n",
        "        if len(set(box)) != len(box):\n",
        "            return valid\n",
        "\n",
        "    valid = True\n",
        "    return valid"
      ],
      "outputs": [],
      "execution_count": 16,
      "metadata": {
        "colab": {},
        "colab_type": "code",
        "id": "-BpXOMAMmRn-"
      }
    },
    {
      "cell_type": "code",
      "source": [
        "# The expected output of the following is True\n",
        "board = [\n",
        "    [0, 0, 0, 0, 0, 0, 0, 0, 0],\n",
        "    [0, 2, 0, 0, 9, 0, 0, 4, 0],\n",
        "    [0, 0, 0, 6, 0, 0, 7, 0, 0],\n",
        "    [0, 0, 0, 0, 0, 0, 0, 0, 0],\n",
        "    [0, 3, 0, 0, 0, 0, 0, 0, 2],\n",
        "    [0, 0, 0, 0, 0, 0, 0, 0, 0],\n",
        "    [1, 0, 0, 3, 0, 0, 5, 0, 0],\n",
        "    [0, 0, 4, 0, 0, 0, 0, 3, 0],\n",
        "    [8, 0, 0, 2, 0, 0, 0, 0, 1]\n",
        "]\n",
        "problem_7(board)"
      ],
      "outputs": [
        {
          "output_type": "execute_result",
          "execution_count": 17,
          "data": {
            "text/plain": [
              "True"
            ]
          },
          "metadata": {}
        }
      ],
      "execution_count": 17,
      "metadata": {
        "colab": {
          "base_uri": "https://localhost:8080/",
          "height": 35
        },
        "colab_type": "code",
        "id": "dgoRIhk_dqf8",
        "outputId": "a9e3ff4e-3929-4075-afcf-bc4d52024924"
      }
    },
    {
      "cell_type": "code",
      "source": [],
      "outputs": [],
      "execution_count": 0,
      "metadata": {
        "colab": {},
        "colab_type": "code",
        "id": "1iSH8SGHdv6p"
      }
    }
  ],
  "metadata": {
    "colab": {
      "collapsed_sections": [],
      "name": "iems5780-a0-template.ipynb",
      "provenance": [],
      "toc_visible": true,
      "version": "0.3.2"
    },
    "kernelspec": {
      "name": "python3",
      "language": "python",
      "display_name": "Python 3"
    },
    "language_info": {
      "name": "python",
      "version": "3.6.1",
      "mimetype": "text/x-python",
      "codemirror_mode": {
        "name": "ipython",
        "version": 3
      },
      "pygments_lexer": "ipython3",
      "nbconvert_exporter": "python",
      "file_extension": ".py"
    },
    "kernel_info": {
      "name": "python3"
    },
    "nteract": {
      "version": "0.11.9"
    }
  },
  "nbformat": 4,
  "nbformat_minor": 1
}